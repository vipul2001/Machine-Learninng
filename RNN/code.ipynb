{
 "cells": [
  {
   "cell_type": "code",
   "execution_count": 1,
   "metadata": {},
   "outputs": [],
   "source": [
    "import torch\n",
    "import torch.nn as nn\n",
    "import torch.nn.functional as F\n",
    "import os\n",
    "import numpy as np"
   ]
  },
  {
   "cell_type": "markdown",
   "metadata": {},
   "source": [
    "# Single RNN from Scratch"
   ]
  },
  {
   "cell_type": "code",
   "execution_count": 2,
   "metadata": {},
   "outputs": [],
   "source": [
    "class SingleRNN(nn.Module):\n",
    "    def __init__(self, n_inputs, n_neurons):\n",
    "        super(SingleRNN, self).__init__()\n",
    "        \n",
    "        self.Wx = torch.randn(n_inputs, n_neurons) # 4 X 1\n",
    "        self.Wy = torch.randn(n_neurons, n_neurons) # 1 X 1\n",
    "        \n",
    "        self.b = torch.zeros(1, n_neurons) # 1 X 4\n",
    "    \n",
    "    def forward(self, X0, X1):\n",
    "        self.Y0 = torch.tanh(torch.mm(X0, self.Wx) + self.b) # 4 X 1\n",
    "        \n",
    "        self.Y1 = torch.tanh(torch.mm(self.Y0, self.Wy) +\n",
    "                            torch.mm(X1, self.Wx) + self.b) # 4 X 1\n",
    "        \n",
    "        return self.Y0, self.Y1"
   ]
  },
  {
   "cell_type": "code",
   "execution_count": 3,
   "metadata": {},
   "outputs": [],
   "source": [
    "N_INPUT = 4\n",
    "N_NEURONS = 1\n",
    "\n",
    "X0_batch = torch.tensor([[0,1,2,0], [3,4,5,0], \n",
    "                         [6,7,8,0], [9,0,1,0]],\n",
    "                        dtype = torch.float) #t=0 => 4 X 4\n",
    "\n",
    "X1_batch = torch.tensor([[9,8,7,0], [0,0,0,0], \n",
    "                         [6,5,4,0], [3,2,1,0]],\n",
    "                        dtype = torch.float) #t=1 => 4 X 4\n",
    "\n",
    "model = SingleRNN(N_INPUT, N_NEURONS)\n",
    "\n",
    "Y0_val, Y1_val = model(X0_batch, X1_batch)"
   ]
  },
  {
   "cell_type": "code",
   "execution_count": 20,
   "metadata": {},
   "outputs": [
    {
     "name": "stdout",
     "output_type": "stream",
     "text": [
      "tensor([[-0.9879],\n",
      "        [-1.0000],\n",
      "        [-1.0000],\n",
      "        [-1.0000]]) tensor([[-1.0000],\n",
      "        [-0.1424],\n",
      "        [-1.0000],\n",
      "        [-0.9983]])\n"
     ]
    }
   ],
   "source": [
    "print(Y0_val, Y1_val)"
   ]
  },
  {
   "cell_type": "markdown",
   "metadata": {},
   "source": [
    "# RNN Cell in Pytorch"
   ]
  },
  {
   "cell_type": "code",
   "execution_count": 6,
   "metadata": {},
   "outputs": [
    {
     "name": "stdout",
     "output_type": "stream",
     "text": [
      "[tensor([[-0.0235,  0.2791,  0.7218,  0.0437,  0.8893],\n",
      "        [ 0.8122, -0.6874,  0.8898, -0.7031,  0.9995],\n",
      "        [ 0.9211, -0.9363,  0.9258, -0.7683,  1.0000],\n",
      "        [ 0.9388, -0.9477,  0.4802, -0.9488,  0.9743]], grad_fn=<TanhBackward>), tensor([[ 0.9422, -0.9865,  0.9351, -0.9765,  1.0000],\n",
      "        [-0.2446, -0.0297, -0.3572,  0.1599,  0.5859],\n",
      "        [ 0.7738, -0.9227,  0.7004, -0.8404,  0.9997],\n",
      "        [ 0.1519, -0.5688,  0.0536, -0.1870,  0.9466]], grad_fn=<TanhBackward>)]\n"
     ]
    }
   ],
   "source": [
    "rnn = nn.RNNCell(3, 5) # n_input X n_neurons\n",
    "\n",
    "X_batch = torch.tensor([[[0,1,2], [3,4,5], \n",
    "                         [6,7,8], [9,0,1]],\n",
    "                        [[9,8,7], [0,0,0], \n",
    "                         [6,5,4], [3,2,1]]\n",
    "                       ], dtype = torch.float) # X0 and X1\n",
    "\n",
    "hx = torch.randn(4, 5) # m X n_neurons\n",
    "output = []\n",
    "\n",
    "# for each time step\n",
    "for i in range(2):\n",
    "    hx = rnn(X_batch[i], hx)\n",
    "    output.append(hx)\n",
    "\n",
    "print(output)"
   ]
  },
  {
   "cell_type": "code",
   "execution_count": 7,
   "metadata": {},
   "outputs": [
    {
     "name": "stdout",
     "output_type": "stream",
     "text": [
      "[tensor([[ 0.2129, -0.3018,  0.8502, -0.0713,  0.1822],\n",
      "        [ 0.9216, -0.9979,  0.9940, -0.1003, -0.8683],\n",
      "        [ 0.8939, -1.0000,  1.0000,  0.9345, -0.8177],\n",
      "        [-0.8913, -0.9817, -0.2938,  0.9804,  0.1526]], grad_fn=<TanhBackward>), tensor([[ 0.9100, -1.0000,  0.9998,  0.9852, -0.9721],\n",
      "        [ 0.2527,  0.1310,  0.9074,  0.4671, -0.1208],\n",
      "        [ 0.4677, -0.9996,  0.9970,  0.9853, -0.7617],\n",
      "        [-0.0016, -0.9142,  0.5822,  0.9455, -0.7400]], grad_fn=<TanhBackward>)]\n",
      "tensor([[ 0.9100, -1.0000,  0.9998,  0.9852, -0.9721],\n",
      "        [ 0.2527,  0.1310,  0.9074,  0.4671, -0.1208],\n",
      "        [ 0.4677, -0.9996,  0.9970,  0.9853, -0.7617],\n",
      "        [-0.0016, -0.9142,  0.5822,  0.9455, -0.7400]], grad_fn=<TanhBackward>)\n"
     ]
    }
   ],
   "source": [
    "class CleanBasicRNN(nn.Module):\n",
    "    def __init__(self, batch_size, n_inputs, n_neurons):\n",
    "        super(CleanBasicRNN, self).__init__()\n",
    "        \n",
    "        self.rnn = nn.RNNCell(n_inputs, n_neurons)\n",
    "        self.hx = torch.randn(batch_size, n_neurons) # initialize hidden state\n",
    "        \n",
    "    def forward(self, X):\n",
    "        output = []\n",
    "\n",
    "        # for each time step\n",
    "        for i in range(2):\n",
    "            self.hx = self.rnn(X[i], self.hx)\n",
    "            output.append(self.hx)\n",
    "        \n",
    "        return output, self.hx\n",
    "\n",
    "FIXED_BATCH_SIZE = 4 # our batch size is fixed for now\n",
    "N_INPUT = 3\n",
    "N_NEURONS = 5\n",
    "\n",
    "X_batch = torch.tensor([[[0,1,2], [3,4,5], \n",
    "                         [6,7,8], [9,0,1]],\n",
    "                        [[9,8,7], [0,0,0], \n",
    "                         [6,5,4], [3,2,1]]\n",
    "                       ], dtype = torch.float) # X0 and X1\n",
    "\n",
    "\n",
    "model = CleanBasicRNN(FIXED_BATCH_SIZE, N_INPUT, N_NEURONS)\n",
    "output_val, states_val = model(X_batch)\n",
    "print(output_val) # contains all output for all timesteps\n",
    "print(states_val) # contains values for final state or final timestep, i.e., t=1\n"
   ]
  },
  {
   "cell_type": "markdown",
   "metadata": {},
   "source": [
    "# Using RNN on MNSIT Data"
   ]
  },
  {
   "cell_type": "code",
   "execution_count": 8,
   "metadata": {},
   "outputs": [],
   "source": [
    "import torchvision\n",
    "import torchvision.transforms as transforms\n",
    "\n",
    "BATCH_SIZE = 64\n",
    "\n",
    "# list all transformations\n",
    "transform = transforms.Compose(\n",
    "    [transforms.ToTensor()])\n",
    "\n",
    "# download and load training dataset\n",
    "trainset = torchvision.datasets.MNIST(root='./data', train=True,\n",
    "                                        download=True, transform=transform)\n",
    "trainloader = torch.utils.data.DataLoader(trainset, batch_size=BATCH_SIZE,\n",
    "                                          shuffle=True, num_workers=2)\n",
    "\n",
    "# download and load testing dataset\n",
    "testset = torchvision.datasets.MNIST(root='./data', train=False,\n",
    "                                       download=True, transform=transform)\n",
    "testloader = torch.utils.data.DataLoader(testset, batch_size=BATCH_SIZE,\n",
    "                                         shuffle=False, num_workers=2)"
   ]
  },
  {
   "cell_type": "code",
   "execution_count": 11,
   "metadata": {},
   "outputs": [
    {
     "data": {
      "image/png": "[encoded data removed]",
      "text/plain": [
       "<Figure size 432x288 with 1 Axes>"
      ]
     },
     "metadata": {
      "needs_background": "light"
     },
     "output_type": "display_data"
    }
   ],
   "source": [
    "import matplotlib.pyplot as plt\n",
    "import numpy as np\n",
    "\n",
    "# functions to show an image\n",
    "def imshow(img):\n",
    "    #img = img / 2 + 0.5     # unnormalize\n",
    "    npimg = img.numpy()\n",
    "    plt.imshow(np.transpose(npimg, (1, 2, 0)))\n",
    "\n",
    "# get some random training images\n",
    "dataiter = iter(trainloader)\n",
    "images, labels = dataiter.next()\n",
    "\n",
    "imshow(torchvision.utils.make_grid(images))"
   ]
  },
  {
   "cell_type": "code",
   "execution_count": 12,
   "metadata": {},
   "outputs": [],
   "source": [
    "N_STEPS = 28\n",
    "N_INPUTS = 28\n",
    "N_NEURONS = 150\n",
    "N_OUTPUTS = 10\n",
    "N_EPHOCS = 10"
   ]
  },
  {
   "cell_type": "markdown",
   "metadata": {},
   "source": [
    "# Image RNN in Pytorch"
   ]
  },
  {
   "cell_type": "code",
   "execution_count": 13,
   "metadata": {},
   "outputs": [],
   "source": [
    "class ImageRNN(nn.Module):\n",
    "    def __init__(self, batch_size, n_steps, n_inputs, n_neurons, n_outputs):\n",
    "        super(ImageRNN, self).__init__()\n",
    "        \n",
    "        self.n_neurons = n_neurons\n",
    "        self.batch_size = batch_size\n",
    "        self.n_steps = n_steps\n",
    "        self.n_inputs = n_inputs\n",
    "        self.n_outputs = n_outputs\n",
    "        \n",
    "        self.basic_rnn = nn.RNN(self.n_inputs, self.n_neurons) \n",
    "        \n",
    "        self.FC = nn.Linear(self.n_neurons, self.n_outputs)\n",
    "        \n",
    "    def init_hidden(self,):\n",
    "        # (num_layers, batch_size, n_neurons)\n",
    "        return (torch.zeros(1, self.batch_size, self.n_neurons))\n",
    "        \n",
    "    def forward(self, X):\n",
    "        # transforms X to dimensions: n_steps X batch_size X n_inputs\n",
    "        X = X.permute(1, 0, 2) \n",
    "        \n",
    "        self.batch_size = X.size(1)\n",
    "        self.hidden = self.init_hidden()\n",
    "        \n",
    "        lstm_out, self.hidden = self.basic_rnn(X, self.hidden)      \n",
    "        out = self.FC(self.hidden)\n",
    "        \n",
    "        return out.view(-1, self.n_outputs) # batch_size X n_output"
   ]
  },
  {
   "cell_type": "code",
   "execution_count": 14,
   "metadata": {},
   "outputs": [
    {
     "name": "stdout",
     "output_type": "stream",
     "text": [
      "tensor([[-0.0854,  0.0388,  0.0209, -0.0541, -0.0323,  0.0088,  0.1579,  0.0551,\n",
      "         -0.0658,  0.0996],\n",
      "        [-0.0835,  0.0352,  0.0230, -0.0514, -0.0340,  0.0060,  0.1596,  0.0542,\n",
      "         -0.0590,  0.0993],\n",
      "        [-0.0866,  0.0329,  0.0319, -0.0487, -0.0346,  0.0040,  0.1610,  0.0602,\n",
      "         -0.0554,  0.0989],\n",
      "        [-0.0797,  0.0387,  0.0195, -0.0525, -0.0256,  0.0105,  0.1548,  0.0416,\n",
      "         -0.0505,  0.0994],\n",
      "        [-0.0983,  0.0283,  0.0384, -0.0487, -0.0260, -0.0060,  0.1910,  0.0713,\n",
      "         -0.0435,  0.1210],\n",
      "        [-0.0727,  0.0540,  0.0266, -0.0536, -0.0152,  0.0072,  0.1637,  0.0513,\n",
      "         -0.0512,  0.1151],\n",
      "        [-0.0846,  0.0327,  0.0198, -0.0440, -0.0323,  0.0112,  0.1561,  0.0670,\n",
      "         -0.0693,  0.1070],\n",
      "        [-0.0901,  0.0454,  0.0306, -0.0500, -0.0380,  0.0024,  0.1647,  0.0472,\n",
      "         -0.0500,  0.1026],\n",
      "        [-0.0896,  0.0353,  0.0180, -0.0538, -0.0244,  0.0031,  0.1636,  0.0564,\n",
      "         -0.0553,  0.1059],\n",
      "        [-0.1061,  0.0260,  0.0526, -0.0575, -0.0029, -0.0015,  0.1946,  0.0940,\n",
      "         -0.0710,  0.1577]], grad_fn=<SliceBackward>)\n"
     ]
    }
   ],
   "source": [
    "dataiter = iter(trainloader)\n",
    "images, labels = dataiter.next()\n",
    "model = ImageRNN(BATCH_SIZE, N_STEPS, N_INPUTS, N_NEURONS, N_OUTPUTS)\n",
    "logits = model(images.view(-1, 28,28))\n",
    "print(logits[0:10])"
   ]
  },
  {
   "cell_type": "code",
   "execution_count": 17,
   "metadata": {},
   "outputs": [],
   "source": [
    "import torch.optim as optim\n",
    "\n",
    "# Device\n",
    "device = torch.device(\"cuda:0\" if torch.cuda.is_available() else \"cpu\")\n",
    "\n",
    "# Model instance\n",
    "model = ImageRNN(BATCH_SIZE, N_STEPS, N_INPUTS, N_NEURONS, N_OUTPUTS)\n",
    "criterion = nn.CrossEntropyLoss()\n",
    "optimizer = optim.Adam(model.parameters(), lr=0.001)\n",
    "\n",
    "def get_accuracy(logit, target, batch_size):\n",
    "    ''' Obtain accuracy for training round '''\n",
    "    corrects = (torch.max(logit, 1)[1].view(target.size()).data == target.data).sum()\n",
    "    accuracy = 100.0 * corrects/batch_size\n",
    "    return accuracy.item()"
   ]
  },
  {
   "cell_type": "code",
   "execution_count": 18,
   "metadata": {},
   "outputs": [
    {
     "name": "stdout",
     "output_type": "stream",
     "text": [
      "Epoch:  0 | Loss: 0.7619 | Train Accuracy: 74.77\n",
      "Epoch:  1 | Loss: 0.3117 | Train Accuracy: 91.02\n",
      "Epoch:  2 | Loss: 0.2327 | Train Accuracy: 93.33\n",
      "Epoch:  3 | Loss: 0.1929 | Train Accuracy: 94.65\n",
      "Epoch:  4 | Loss: 0.1720 | Train Accuracy: 95.19\n",
      "Epoch:  5 | Loss: 0.1469 | Train Accuracy: 95.92\n",
      "Epoch:  6 | Loss: 0.1358 | Train Accuracy: 96.23\n",
      "Epoch:  7 | Loss: 0.1292 | Train Accuracy: 96.39\n",
      "Epoch:  8 | Loss: 0.1276 | Train Accuracy: 96.49\n",
      "Epoch:  9 | Loss: 0.1124 | Train Accuracy: 96.94\n"
     ]
    }
   ],
   "source": [
    "\n",
    "for epoch in range(N_EPHOCS):  # loop over the dataset multiple times\n",
    "    train_running_loss = 0.0\n",
    "    train_acc = 0.0\n",
    "    model.train()\n",
    "    \n",
    "    # TRAINING ROUND\n",
    "    for i, data in enumerate(trainloader):\n",
    "         # zero the parameter gradients\n",
    "        optimizer.zero_grad()\n",
    "        \n",
    "        # reset hidden states\n",
    "        model.hidden = model.init_hidden() \n",
    "        \n",
    "        # get the inputs\n",
    "        inputs, labels = data\n",
    "        inputs = inputs.view(-1, 28,28) \n",
    "\n",
    "        # forward + backward + optimize\n",
    "        outputs = model(inputs)\n",
    "\n",
    "        loss = criterion(outputs, labels)\n",
    "        loss.backward()\n",
    "        optimizer.step()\n",
    "\n",
    "        train_running_loss += loss.detach().item()\n",
    "        train_acc += get_accuracy(outputs, labels, BATCH_SIZE)\n",
    "         \n",
    "    model.eval()\n",
    "    print('Epoch:  %d | Loss: %.4f | Train Accuracy: %.2f' \n",
    "          %(epoch, train_running_loss / i, train_acc/i))"
   ]
  },
  {
   "cell_type": "code",
   "execution_count": 19,
   "metadata": {},
   "outputs": [
    {
     "name": "stdout",
     "output_type": "stream",
     "text": [
      "Test Accuracy: 96.61\n"
     ]
    }
   ],
   "source": [
    "test_acc = 0.0\n",
    "for i, data in enumerate(testloader, 0):\n",
    "    inputs, labels = data\n",
    "    inputs = inputs.view(-1, 28, 28)\n",
    "\n",
    "    outputs = model(inputs)\n",
    "\n",
    "    test_acc += get_accuracy(outputs, labels, BATCH_SIZE)\n",
    "        \n",
    "print('Test Accuracy: %.2f'%( test_acc/i))"
   ]
  },
  {
   "cell_type": "code",
   "execution_count": null,
   "metadata": {},
   "outputs": [],
   "source": []
  }
 ],
 "metadata": {
  "kernelspec": {
   "display_name": "Python 3",
   "language": "python",
   "name": "python3"
  },
  "language_info": {
   "codemirror_mode": {
    "name": "ipython",
    "version": 3
   },
   "file_extension": ".py",
   "mimetype": "text/x-python",
   "name": "python",
   "nbconvert_exporter": "python",
   "pygments_lexer": "ipython3",
   "version": "3.7.4"
  }
 },
 "nbformat": 4,
 "nbformat_minor": 2
}
